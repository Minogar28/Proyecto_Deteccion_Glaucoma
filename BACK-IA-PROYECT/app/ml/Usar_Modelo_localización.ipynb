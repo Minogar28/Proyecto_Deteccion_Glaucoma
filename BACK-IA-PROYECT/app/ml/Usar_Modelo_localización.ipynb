{
 "cells": [
  {
   "cell_type": "markdown",
   "metadata": {
    "id": "rYKGswOb0Xtv"
   },
   "source": [
    "**INSTALACION DE DEPENDENCIAS**"
   ]
  },
  {
   "cell_type": "code",
   "execution_count": null,
   "metadata": {
    "id": "UugN3LDLB46c"
   },
   "outputs": [],
   "source": [
    "%pip install ultralytics opencv-python-headless"
   ]
  },
  {
   "cell_type": "markdown",
   "metadata": {
    "id": "89nyRVPS0v7K"
   },
   "source": [
    "IMPORTACIÓN DE DEPENDENCIAS"
   ]
  },
  {
   "cell_type": "code",
   "execution_count": null,
   "metadata": {
    "id": "bceFmMhS0AWO"
   },
   "outputs": [],
   "source": [
    "import os\n",
    "import cv2\n",
    "import numpy as np\n",
    "from tqdm import tqdm\n",
    "from ultralytics import YOLO"
   ]
  },
  {
   "cell_type": "markdown",
   "metadata": {
    "id": "0uAzcv5Q0w75"
   },
   "source": [
    "CARGAR Y UTILIZAR MODELO"
   ]
  },
  {
   "cell_type": "code",
   "execution_count": null,
   "metadata": {
    "id": "XCE0h5ri0K6C"
   },
   "outputs": [],
   "source": [
    "# Cargar el modelo YOLOv8\n",
    "model = YOLO(\"./best.pt\")\n",
    "\n",
    "# Directorios\n",
    "input_folder = \"./imagenes\"\n",
    "crop_folder = \"./localización\"\n",
    "no_detected_folder = \"./no_identificadas\"\n",
    "os.makedirs(crop_folder, exist_ok=True)\n",
    "os.makedirs(no_detected_folder, exist_ok=True)\n",
    "\n",
    "CROP_SIZE = 800  # Área original a extraer alrededor del centro\n",
    "FINAL_SIZE = 512  # Tamaño final después del resize\n",
    "\n",
    "# Procesar imágenes\n",
    "for img_name in os.listdir(input_folder):\n",
    "    img_path = os.path.join(input_folder, img_name)\n",
    "    image = cv2.imread(img_path)\n",
    "    if image is None:\n",
    "        print(f\"No se pudo cargar: {img_name}\")\n",
    "        continue\n",
    "\n",
    "    height, width, _ = image.shape\n",
    "    results = model(img_path)\n",
    "\n",
    "    boxes = results[0].boxes.xyxy.cpu().numpy()\n",
    "\n",
    "    if len(boxes) == 0:\n",
    "        # Si no se detectaron objetos, guardar en carpeta especial\n",
    "        cv2.imwrite(os.path.join(no_detected_folder, img_name), image)\n",
    "        print(f\"No se detectó nada en: {img_name} → guardada en 'no_identificadas'\")\n",
    "        continue\n",
    "\n",
    "    for idx, box in enumerate(boxes):\n",
    "        x_min, y_min, x_max, y_max = map(int, box[:4])\n",
    "\n",
    "        # Centro del bounding box\n",
    "        x_center = int((x_min + x_max) / 2)\n",
    "        y_center = int((y_min + y_max) / 2)\n",
    "\n",
    "        # Definir recorte centrado de CROP_SIZE\n",
    "        half_crop = CROP_SIZE // 2\n",
    "        x1 = x_center - half_crop\n",
    "        y1 = y_center - half_crop\n",
    "        x2 = x_center + half_crop\n",
    "        y2 = y_center + half_crop\n",
    "\n",
    "        # Crear imagen negra (para padding)\n",
    "        cropped = np.zeros((CROP_SIZE, CROP_SIZE, 3), dtype=np.uint8)\n",
    "\n",
    "        # Coordenadas válidas dentro de la imagen original\n",
    "        x1_img = max(x1, 0)\n",
    "        y1_img = max(y1, 0)\n",
    "        x2_img = min(x2, width)\n",
    "        y2_img = min(y2, height)\n",
    "\n",
    "        # Coordenadas donde se insertará en la imagen negra\n",
    "        x1_dst = x1_img - x1\n",
    "        y1_dst = y1_img - y1\n",
    "        x2_dst = x1_dst + (x2_img - x1_img)\n",
    "        y2_dst = y1_dst + (y2_img - y1_img)\n",
    "\n",
    "        # Insertar región válida\n",
    "        cropped[y1_dst:y2_dst, x1_dst:x2_dst] = image[y1_img:y2_img, x1_img:x2_img]\n",
    "\n",
    "        # Redimensionar a 512x512\n",
    "        cropped_resized = cv2.resize(cropped, (FINAL_SIZE, FINAL_SIZE))\n",
    "\n",
    "        # Guardar recorte\n",
    "        crop_name = f\"{os.path.splitext(img_name)[0]}.jpg\"\n",
    "        cv2.imwrite(os.path.join(crop_folder, crop_name), cropped_resized)\n",
    "\n",
    "    print(f\"Procesada y guardada: {img_name}\")\n",
    "\n",
    "print(\"Detecciones, recortes centrados y resize completados.\")\n"
   ]
  }
 ],
 "metadata": {
  "colab": {
   "provenance": []
  },
  "kernelspec": {
   "display_name": "Python 3",
   "language": "python",
   "name": "python3"
  },
  "language_info": {
   "codemirror_mode": {
    "name": "ipython",
    "version": 3
   },
   "file_extension": ".py",
   "mimetype": "text/x-python",
   "name": "python",
   "nbconvert_exporter": "python",
   "pygments_lexer": "ipython3",
   "version": "3.12.6"
  }
 },
 "nbformat": 4,
 "nbformat_minor": 4
}
